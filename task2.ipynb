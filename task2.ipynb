{
 "cells": [
  {
   "cell_type": "markdown",
   "id": "28bdeddd",
   "metadata": {},
   "source": [
    "## Task 2"
   ]
  },
  {
   "cell_type": "markdown",
   "id": "fe8936a3",
   "metadata": {},
   "source": [
    "author: 25-AI-张杰郗"
   ]
  },
  {
   "cell_type": "code",
   "execution_count": 1,
   "id": "0aab5451",
   "metadata": {},
   "outputs": [
    {
     "name": "stderr",
     "output_type": "stream",
     "text": [
      "d:\\python\\39\\lib\\site-packages\\tqdm\\auto.py:21: TqdmWarning: IProgress not found. Please update jupyter and ipywidgets. See https://ipywidgets.readthedocs.io/en/stable/user_install.html\n",
      "  from .autonotebook import tqdm as notebook_tqdm\n"
     ]
    }
   ],
   "source": [
    "import torch\n",
    "import torch.nn as nn\n",
    "import torch.optim as optim\n",
    "import torch.utils.data as ds\n",
    "import transformers\n",
    "import pandas as pd\n",
    "import sklearn.metrics as metrics\n",
    "import matplotlib.pyplot as plt"
   ]
  },
  {
   "cell_type": "markdown",
   "id": "ee2080f4",
   "metadata": {},
   "source": [
    "### 数据预处理+模型定义"
   ]
  },
  {
   "cell_type": "code",
   "execution_count": 2,
   "id": "29b58fc0",
   "metadata": {},
   "outputs": [],
   "source": [
    "raw_train = pd.read_json(\"./game-chat/game_chat_train.jsonl\", lines=True)\n",
    "raw_test = pd.read_json(\"./game-chat/game_chat_validation.jsonl\", lines=True)\n",
    "\n",
    "name2id = {name: i for i, name in enumerate(raw_train['label'].unique())}\n",
    "id2name = {i: name for name, i in name2id.items()}"
   ]
  },
  {
   "cell_type": "code",
   "execution_count": 3,
   "id": "ad91e469",
   "metadata": {},
   "outputs": [],
   "source": [
    "tokenizer = transformers.BertTokenizer.from_pretrained('./bert-base-chinese')\n",
    "bert_model = transformers.BertModel.from_pretrained('./bert-base-chinese').cuda()"
   ]
  },
  {
   "cell_type": "markdown",
   "id": "f281a093",
   "metadata": {},
   "source": [
    "我们使用预训练`bert-base-chinese`模型获取整个句子的特征，并在之后添加几个全连接层来完成这个特定的分类问题"
   ]
  },
  {
   "cell_type": "code",
   "execution_count": 4,
   "id": "db7bbfd0",
   "metadata": {},
   "outputs": [],
   "source": [
    "train_tokenized = [tokenizer(sentence, return_tensors=\"pt\") for sentence in raw_train['sentence'].tolist()]\n",
    "train_labels = [name2id[label] for label in raw_train['label'].tolist()]\n",
    "\n",
    "test_tokenized = [tokenizer(sentence, return_tensors=\"pt\") for sentence in raw_test['sentence'].tolist()]\n",
    "test_labels = [name2id[label] for label in raw_test['label'].tolist()]"
   ]
  },
  {
   "cell_type": "code",
   "execution_count": 5,
   "id": "6d69b5dd",
   "metadata": {},
   "outputs": [],
   "source": [
    "class Dataset(ds.Dataset):\n",
    "    def __init__(self, tokenized_data, labels):\n",
    "        self.tokenized_data = tokenized_data\n",
    "        self.labels = labels\n",
    "        self.bert_model = bert_model\n",
    "\n",
    "    def __len__(self):\n",
    "        return len(self.labels)\n",
    "\n",
    "    def __getitem__(self, idx):\n",
    "        data = {k: v.squeeze(0).cuda() for k, v in self.tokenized_data[idx].items()}\n",
    "        label = torch.tensor(self.labels[idx]).cuda()\n",
    "        return data, label\n",
    "\n",
    "def collate_fn(batch):\n",
    "    keys = batch[0][0].keys()\n",
    "\n",
    "    padded_data = {k: [data[0][k] for data in batch] for k in keys}\n",
    "    padded_data = {k: torch.nn.utils.rnn.pad_sequence(v, batch_first=True, padding_value=0) for k, v in padded_data.items()}\n",
    "    labels = torch.tensor([data[1] for data in batch]).cuda()\n",
    "\n",
    "    return padded_data, labels"
   ]
  },
  {
   "cell_type": "code",
   "execution_count": 6,
   "id": "78f0c2e1",
   "metadata": {},
   "outputs": [],
   "source": [
    "torch.manual_seed(518)\n",
    "\n",
    "train_dataset = Dataset(train_tokenized, train_labels)\n",
    "test_dataset = Dataset(test_tokenized, test_labels)\n",
    "\n",
    "train_loader = ds.DataLoader(train_dataset, batch_size=32, shuffle=True, collate_fn=collate_fn)\n",
    "test_loader = ds.DataLoader(test_dataset, batch_size=32, shuffle=False, collate_fn=collate_fn)"
   ]
  },
  {
   "cell_type": "code",
   "execution_count": 7,
   "id": "8803628e",
   "metadata": {},
   "outputs": [],
   "source": [
    "class BertTuningModel(nn.Module):\n",
    "    def __init__(self, dropout=0.4):\n",
    "        \"\"\"\n",
    "        bert output: 768\n",
    "        \"\"\"\n",
    "        super(BertTuningModel, self).__init__()\n",
    "        \n",
    "        self.fc1 = nn.Linear(768, 256)\n",
    "        self.fc2 = nn.Linear(256, 64)\n",
    "        self.fc3 = nn.Linear(64, 5)\n",
    "\n",
    "        self.relu = nn.ReLU()\n",
    "        self.softmax = nn.Softmax(dim=1)\n",
    "        self.dropout = nn.Dropout(dropout)\n",
    "\n",
    "        return\n",
    "    \n",
    "    def forward(self, x):\n",
    "        x = self.relu(self.fc1(x))\n",
    "        x = self.dropout(x)\n",
    "        x = self.relu(self.fc2(x))\n",
    "        x = self.dropout(x)\n",
    "        x = self.fc3(x)\n",
    "\n",
    "        return self.softmax(x)\n",
    "\n",
    "class AllTuningModel(nn.Module):\n",
    "    def __init__(self, bert_model, dropout=0.4):\n",
    "        \"\"\"\n",
    "        bert output: 768\n",
    "        \"\"\"\n",
    "        super(AllTuningModel, self).__init__()\n",
    "        self.bert = bert_model\n",
    "        \n",
    "        self.fc1 = nn.Linear(768, 256)\n",
    "        self.fc2 = nn.Linear(256, 64)\n",
    "        self.fc3 = nn.Linear(64, 5)\n",
    "\n",
    "        self.relu = nn.ReLU()\n",
    "        self.softmax = nn.Softmax(dim=1)\n",
    "        self.dropout = nn.Dropout(dropout)\n",
    "\n",
    "        return\n",
    "    \n",
    "    def forward(self, x):\n",
    "        x = self.bert(**x).last_hidden_state[:, 0, :]\n",
    "        x = self.relu(self.fc1(x))\n",
    "        x = self.dropout(x)\n",
    "        x = self.relu(self.fc2(x))\n",
    "        x = self.dropout(x)\n",
    "        x = self.fc3(x)\n",
    "\n",
    "        return self.softmax(x)"
   ]
  },
  {
   "cell_type": "markdown",
   "id": "d4d59ea1",
   "metadata": {},
   "source": [
    "### 模型训练"
   ]
  },
  {
   "cell_type": "markdown",
   "id": "7e4407c0",
   "metadata": {},
   "source": [
    "#### 冻结BERT:"
   ]
  },
  {
   "cell_type": "code",
   "execution_count": 8,
   "id": "5edc679d",
   "metadata": {},
   "outputs": [
    {
     "name": "stdout",
     "output_type": "stream",
     "text": [
      "Epoch 1, Loss: 1.479010410308838\n",
      "Epoch 2, Loss: 1.3872967227300008\n",
      "Epoch 3, Loss: 1.3253716135025024\n",
      "Epoch 4, Loss: 1.2733974409103395\n",
      "Epoch 5, Loss: 1.2327502218882243\n",
      "Epoch 6, Loss: 1.2063191556930541\n",
      "Epoch 7, Loss: 1.1725103537241617\n",
      "Epoch 8, Loss: 1.1501349687576294\n",
      "Epoch 9, Loss: 1.1400600210825602\n",
      "Epoch 10, Loss: 1.1210929600397745\n",
      "Epoch 11, Loss: 1.110916870435079\n",
      "Epoch 12, Loss: 1.100357612768809\n",
      "Epoch 13, Loss: 1.0944111561775207\n",
      "Epoch 14, Loss: 1.0869723773002624\n",
      "Epoch 15, Loss: 1.079252056280772\n",
      "Epoch 16, Loss: 1.0798787220319113\n",
      "Epoch 17, Loss: 1.075239253838857\n",
      "Epoch 18, Loss: 1.069312022527059\n",
      "Epoch 19, Loss: 1.0663175916671752\n",
      "Epoch 20, Loss: 1.0701325011253358\n",
      "Epoch 21, Loss: 1.058583883444468\n",
      "Epoch 22, Loss: 1.0591614898045858\n",
      "Epoch 23, Loss: 1.0585613067944843\n",
      "Epoch 24, Loss: 1.0534438212712607\n",
      "Epoch 25, Loss: 1.052575446764628\n",
      "Epoch 26, Loss: 1.0433027712504068\n",
      "Epoch 27, Loss: 1.047798744837443\n",
      "Epoch 28, Loss: 1.0432393034299214\n",
      "Epoch 29, Loss: 1.0379204082489013\n",
      "Epoch 30, Loss: 1.0394643751780193\n",
      "Epoch 31, Loss: 1.0432243498166403\n",
      "Epoch 32, Loss: 1.0346185302734374\n",
      "Epoch 33, Loss: 1.0393750047683716\n",
      "Epoch 34, Loss: 1.036227254072825\n",
      "Epoch 35, Loss: 1.0333238554000854\n",
      "Epoch 36, Loss: 1.0279787627855936\n",
      "Epoch 37, Loss: 1.0267807618776956\n",
      "Epoch 38, Loss: 1.024890404542287\n",
      "Epoch 39, Loss: 1.0260193848609924\n",
      "Epoch 40, Loss: 1.0256166005134582\n",
      "Epoch 41, Loss: 1.023604878584544\n",
      "Epoch 42, Loss: 1.0243476351102194\n",
      "Epoch 43, Loss: 1.0184517820676169\n",
      "Epoch 44, Loss: 1.0207529505093893\n",
      "Epoch 45, Loss: 1.0180672820409138\n",
      "Epoch 46, Loss: 1.0145237692197164\n",
      "Epoch 47, Loss: 1.0116312662760416\n",
      "Epoch 48, Loss: 1.0094897874196371\n",
      "Epoch 49, Loss: 1.0099854509035746\n",
      "Epoch 50, Loss: 1.0084503054618836\n",
      "Epoch 51, Loss: 1.0124615041414897\n",
      "Epoch 52, Loss: 1.0137180733680724\n",
      "Epoch 53, Loss: 1.0079368861516316\n",
      "Epoch 54, Loss: 1.0037616046269735\n",
      "Epoch 55, Loss: 1.0041137139002483\n",
      "Epoch 56, Loss: 1.0067636235555013\n",
      "Epoch 57, Loss: 1.002777537504832\n",
      "Epoch 58, Loss: 1.0009108646710714\n",
      "Epoch 59, Loss: 1.0052265119552612\n",
      "Epoch 60, Loss: 1.0007824953397115\n",
      "Epoch 61, Loss: 0.9956523887316386\n",
      "Epoch 62, Loss: 0.9962457489967346\n",
      "Epoch 63, Loss: 0.9992455625534058\n",
      "Epoch 64, Loss: 0.9973779956499735\n",
      "Epoch 65, Loss: 0.9961790696779886\n",
      "Epoch 66, Loss: 0.9935358381271362\n",
      "Epoch 67, Loss: 0.9958050274848937\n",
      "Epoch 68, Loss: 0.9933397555351258\n",
      "Epoch 69, Loss: 0.994175865650177\n",
      "Epoch 70, Loss: 0.9902962215741475\n",
      "Epoch 71, Loss: 0.9928718328475952\n",
      "Epoch 72, Loss: 0.9901169101397197\n",
      "Epoch 73, Loss: 0.9875245213508606\n",
      "Epoch 74, Loss: 0.9877624090512593\n",
      "Epoch 75, Loss: 0.9897828650474548\n",
      "Epoch 76, Loss: 0.9848287582397461\n",
      "Epoch 77, Loss: 0.9857789969444275\n",
      "Epoch 78, Loss: 0.9845550600687663\n",
      "Epoch 79, Loss: 0.9848819001515706\n",
      "Epoch 80, Loss: 0.9820905447006225\n",
      "Epoch 81, Loss: 0.9831465029716492\n",
      "Epoch 82, Loss: 0.9832061664263407\n",
      "Epoch 83, Loss: 0.9779250558217366\n",
      "Epoch 84, Loss: 0.9794742512702942\n",
      "Epoch 85, Loss: 0.9787132986386617\n",
      "Epoch 86, Loss: 0.9794508957862854\n",
      "Epoch 87, Loss: 0.9798316391309102\n",
      "Epoch 88, Loss: 0.9779001879692077\n",
      "Epoch 89, Loss: 0.9750458145141602\n",
      "Epoch 90, Loss: 0.9767729878425598\n",
      "Epoch 91, Loss: 0.9766996177037557\n",
      "Epoch 92, Loss: 0.9761589749654134\n",
      "Epoch 93, Loss: 0.9736896483103434\n",
      "Epoch 94, Loss: 0.974809517065684\n",
      "Epoch 95, Loss: 0.9755509877204895\n",
      "Epoch 96, Loss: 0.9707178171475729\n",
      "Epoch 97, Loss: 0.9728108080228169\n",
      "Epoch 98, Loss: 0.9747129782040914\n",
      "Epoch 99, Loss: 0.9698555334409078\n",
      "Epoch 100, Loss: 0.9718794353802999\n"
     ]
    }
   ],
   "source": [
    "torch.manual_seed(518)\n",
    "\n",
    "epoches = 100\n",
    "loss_cache = []\n",
    "\n",
    "model = BertTuningModel().cuda()\n",
    "optimizer = optim.Adam(model.parameters(), lr=1e-4)\n",
    "criterion = nn.CrossEntropyLoss()\n",
    "\n",
    "model.train()\n",
    "for epoch in range(epoches):\n",
    "    total_loss = 0\n",
    "\n",
    "    for data, labels in train_loader:\n",
    "        with torch.no_grad():\n",
    "            data = bert_model(**data).last_hidden_state[:, 0, :]\n",
    "            \n",
    "        optimizer.zero_grad()\n",
    "        outputs = model(data)\n",
    "        loss = criterion(outputs, labels)\n",
    "        loss.backward()\n",
    "        optimizer.step()\n",
    "        total_loss += loss.item()\n",
    "    \n",
    "    loss_cache.append(total_loss / len(train_loader))\n",
    "    print(f\"Epoch {epoch+1}, Loss: {total_loss / len(train_loader)}\")"
   ]
  },
  {
   "cell_type": "code",
   "execution_count": 9,
   "id": "dac67269",
   "metadata": {},
   "outputs": [
    {
     "data": {
      "image/png": "[encoded data removed]",
      "text/plain": [
       "<Figure size 1600x800 with 1 Axes>"
      ]
     },
     "metadata": {},
     "output_type": "display_data"
    }
   ],
   "source": [
    "plt.figure(figsize=(16, 8))\n",
    "plt.plot(range(1, epoches + 1), loss_cache)\n",
    "plt.xlabel('Epoch')\n",
    "plt.ylabel('Loss')\n",
    "plt.title('Learning Curve')\n",
    "plt.show()"
   ]
  },
  {
   "cell_type": "markdown",
   "id": "a842f98c",
   "metadata": {},
   "source": [
    "100 epoches:\n",
    "![learning curve](./images\\bert-tuning_classifier-100-0.4.png \"100\")\n",
    "300 epoches:\n",
    "![learning curve](./images\\bert-tuning_classifier-300-0.4.png \"300\")"
   ]
  },
  {
   "cell_type": "code",
   "execution_count": 11,
   "id": "75ebadfd",
   "metadata": {},
   "outputs": [],
   "source": [
    "torch.save(model, \"./models/task2/bert-tuning_classifier-100-0.4.pth\")"
   ]
  },
  {
   "cell_type": "markdown",
   "id": "164565a2",
   "metadata": {},
   "source": [
    "#### 微调全部:"
   ]
  },
  {
   "cell_type": "code",
   "execution_count": 8,
   "id": "cfe0a706",
   "metadata": {},
   "outputs": [
    {
     "name": "stdout",
     "output_type": "stream",
     "text": [
      "Epoch 1, Loss: 1.5932511250178019\n",
      "Epoch 2, Loss: 1.566044527689616\n",
      "Epoch 3, Loss: 1.5309828567504882\n",
      "Epoch 4, Loss: 1.502299124399821\n",
      "Epoch 5, Loss: 1.4760496187210084\n",
      "Epoch 6, Loss: 1.462254581451416\n",
      "Epoch 7, Loss: 1.4421733172734579\n",
      "Epoch 8, Loss: 1.42672736008962\n",
      "Epoch 9, Loss: 1.4079540713628134\n",
      "Epoch 10, Loss: 1.3901193491617838\n",
      "Epoch 11, Loss: 1.3706152296066285\n",
      "Epoch 12, Loss: 1.3549751631418865\n",
      "Epoch 13, Loss: 1.3303849681218465\n",
      "Epoch 14, Loss: 1.3171360699335735\n",
      "Epoch 15, Loss: 1.2990274365743002\n",
      "Epoch 16, Loss: 1.2896403694152831\n",
      "Epoch 17, Loss: 1.275150473912557\n",
      "Epoch 18, Loss: 1.260205659866333\n",
      "Epoch 19, Loss: 1.2449983167648315\n",
      "Epoch 20, Loss: 1.2317852719624838\n",
      "Epoch 21, Loss: 1.218019110361735\n",
      "Epoch 22, Loss: 1.2098673899968466\n",
      "Epoch 23, Loss: 1.1966023445129395\n",
      "Epoch 24, Loss: 1.184498127301534\n",
      "Epoch 25, Loss: 1.1706803115208944\n",
      "Epoch 26, Loss: 1.1561237700780234\n",
      "Epoch 27, Loss: 1.147408094406128\n",
      "Epoch 28, Loss: 1.13756635983785\n",
      "Epoch 29, Loss: 1.1264505545298258\n",
      "Epoch 30, Loss: 1.1179287099838258\n",
      "Epoch 31, Loss: 1.1134659926096597\n",
      "Epoch 32, Loss: 1.0998288822174072\n",
      "Epoch 33, Loss: 1.0982913955052693\n",
      "Epoch 34, Loss: 1.0880846420923869\n",
      "Epoch 35, Loss: 1.0831717220942179\n",
      "Epoch 36, Loss: 1.0779709680875142\n",
      "Epoch 37, Loss: 1.0697585757573445\n",
      "Epoch 38, Loss: 1.0637174367904663\n",
      "Epoch 39, Loss: 1.0572575195630391\n",
      "Epoch 40, Loss: 1.052769469420115\n",
      "Epoch 41, Loss: 1.0468938088417052\n",
      "Epoch 42, Loss: 1.043570676644643\n",
      "Epoch 43, Loss: 1.0362492489814759\n",
      "Epoch 44, Loss: 1.0370318206151325\n",
      "Epoch 45, Loss: 1.0299356174468994\n",
      "Epoch 46, Loss: 1.0256610321998596\n",
      "Epoch 47, Loss: 1.0236762229601541\n",
      "Epoch 48, Loss: 1.0196118823687235\n",
      "Epoch 49, Loss: 1.014458962281545\n",
      "Epoch 50, Loss: 1.012942841053009\n",
      "Epoch 51, Loss: 1.0140188773473104\n",
      "Epoch 52, Loss: 1.0064682547251385\n",
      "Epoch 53, Loss: 1.007485846678416\n",
      "Epoch 54, Loss: 1.00596053759257\n",
      "Epoch 55, Loss: 0.9999072504043579\n",
      "Epoch 56, Loss: 0.9987593762079875\n",
      "Epoch 57, Loss: 0.9958182088534038\n",
      "Epoch 58, Loss: 0.992052652835846\n",
      "Epoch 59, Loss: 0.9901139076550801\n",
      "Epoch 60, Loss: 0.9891871031125387\n",
      "Epoch 61, Loss: 0.9857274174690247\n",
      "Epoch 62, Loss: 0.9827391282717387\n",
      "Epoch 63, Loss: 0.981751868724823\n",
      "Epoch 64, Loss: 0.9835965633392334\n",
      "Epoch 65, Loss: 0.9826765004793803\n",
      "Epoch 66, Loss: 0.9761023751894633\n",
      "Epoch 67, Loss: 0.9772386622428894\n",
      "Epoch 68, Loss: 0.9741195503870647\n",
      "Epoch 69, Loss: 0.9739541141192118\n",
      "Epoch 70, Loss: 0.9714432446161906\n",
      "Epoch 71, Loss: 0.969861855506897\n",
      "Epoch 72, Loss: 0.9709528024991353\n",
      "Epoch 73, Loss: 0.9712126048405966\n",
      "Epoch 74, Loss: 0.9677793836593628\n",
      "Epoch 75, Loss: 0.9659291736284892\n",
      "Epoch 76, Loss: 0.9670180877049764\n",
      "Epoch 77, Loss: 0.9643173511823019\n",
      "Epoch 78, Loss: 0.9614092795054118\n",
      "Epoch 79, Loss: 0.9626800759633383\n",
      "Epoch 80, Loss: 0.9589351789156596\n",
      "Epoch 81, Loss: 0.960188447634379\n",
      "Epoch 82, Loss: 0.9599659864107768\n",
      "Epoch 83, Loss: 0.9573205129305522\n",
      "Epoch 84, Loss: 0.9596345845858256\n",
      "Epoch 85, Loss: 0.9573466674486796\n",
      "Epoch 86, Loss: 0.9576707458496094\n",
      "Epoch 87, Loss: 0.9567055281003316\n",
      "Epoch 88, Loss: 0.9544439681371053\n",
      "Epoch 89, Loss: 0.9539575743675232\n",
      "Epoch 90, Loss: 0.954622814655304\n",
      "Epoch 91, Loss: 0.9542465686798096\n",
      "Epoch 92, Loss: 0.953818162282308\n",
      "Epoch 93, Loss: 0.9508095248540243\n",
      "Epoch 94, Loss: 0.9495614679654439\n",
      "Epoch 95, Loss: 0.9500894061724345\n",
      "Epoch 96, Loss: 0.9486901489893595\n",
      "Epoch 97, Loss: 0.9492568159103394\n",
      "Epoch 98, Loss: 0.9486025818188986\n",
      "Epoch 99, Loss: 0.94729035059611\n",
      "Epoch 100, Loss: 0.9481241051355997\n"
     ]
    }
   ],
   "source": [
    "torch.manual_seed(518)\n",
    "\n",
    "epoches = 100\n",
    "loss_cache = []\n",
    "\n",
    "model = AllTuningModel(bert_model).cuda()\n",
    "optimizer = optim.Adam(model.parameters(), lr=1e-6)\n",
    "criterion = nn.CrossEntropyLoss()\n",
    "\n",
    "model.train()\n",
    "for epoch in range(epoches):\n",
    "    total_loss = 0\n",
    "\n",
    "    for data, labels in train_loader:            \n",
    "        optimizer.zero_grad()\n",
    "        outputs = model(data)\n",
    "        loss = criterion(outputs, labels)\n",
    "        loss.backward()\n",
    "        optimizer.step()\n",
    "        total_loss += loss.item()\n",
    "    \n",
    "    loss_cache.append(total_loss / len(train_loader))\n",
    "    print(f\"Epoch {epoch+1}, Loss: {total_loss / len(train_loader)}\")"
   ]
  },
  {
   "cell_type": "code",
   "execution_count": 9,
   "id": "2d167e7c",
   "metadata": {},
   "outputs": [
    {
     "data": {
      "image/png": "[encoded data removed]",
      "text/plain": [
       "<Figure size 1600x800 with 1 Axes>"
      ]
     },
     "metadata": {},
     "output_type": "display_data"
    }
   ],
   "source": [
    "plt.figure(figsize=(16, 8))\n",
    "plt.plot(range(1, epoches + 1), loss_cache)\n",
    "plt.xlabel('Epoch')\n",
    "plt.ylabel('Loss')\n",
    "plt.title('Learning Curve')\n",
    "plt.show()"
   ]
  },
  {
   "cell_type": "markdown",
   "id": "0dd536bc",
   "metadata": {},
   "source": [
    "100 epoches:\n",
    "![learning curve](./images/all-tuning_classifier-100-0.4.png \"100\")\n",
    "300 epoches:\n",
    "![learning curve](./images/all-tuning_classifier-300-0.4.png \"300\")"
   ]
  },
  {
   "cell_type": "code",
   "execution_count": 11,
   "id": "81ea19ed",
   "metadata": {},
   "outputs": [],
   "source": [
    "torch.save(model, \"./models/task2/all-tuning_classifier-100-0.4.pth\")"
   ]
  },
  {
   "cell_type": "markdown",
   "id": "a900051c",
   "metadata": {},
   "source": [
    "### 模型评估"
   ]
  },
  {
   "cell_type": "code",
   "execution_count": 12,
   "id": "818fdcc7",
   "metadata": {},
   "outputs": [
    {
     "name": "stderr",
     "output_type": "stream",
     "text": [
      "d:\\python\\39\\lib\\site-packages\\sklearn\\metrics\\_classification.py:1565: UndefinedMetricWarning: Precision is ill-defined and being set to 0.0 in labels with no predicted samples. Use `zero_division` parameter to control this behavior.\n",
      "  _warn_prf(average, modifier, f\"{metric.capitalize()} is\", len(result))\n"
     ]
    },
    {
     "name": "stdout",
     "output_type": "stream",
     "text": [
      "冻结BERT参数，仅微调分类器(100 epoches)：\n",
      "------------------------------------------------------------ \n",
      " Accuracy: 0.8308144416456759, Precision: 0.4874134096300609, Recall: 0.4910840623523855, F1-score: 0.4892220975311162 \n",
      " ------------------------------------------------------------\n",
      "\n",
      "\n",
      "\n",
      "冻结BERT参数，仅微调分类器(300 epoches)：\n",
      "------------------------------------------------------------ \n",
      " Accuracy: 0.8299748110831234, Precision: 0.4893362286475881, Recall: 0.48845804440245627, F1-score: 0.48874677326230004 \n",
      " ------------------------------------------------------------\n"
     ]
    },
    {
     "name": "stderr",
     "output_type": "stream",
     "text": [
      "d:\\python\\39\\lib\\site-packages\\sklearn\\metrics\\_classification.py:1565: UndefinedMetricWarning: Precision is ill-defined and being set to 0.0 in labels with no predicted samples. Use `zero_division` parameter to control this behavior.\n",
      "  _warn_prf(average, modifier, f\"{metric.capitalize()} is\", len(result))\n"
     ]
    }
   ],
   "source": [
    "model = torch.load(\"./models/task2/bert-tuning_classifier-100-0.4.pth\", weights_only=False)\n",
    "model.eval()\n",
    "\n",
    "preds = []\n",
    "for data, labels in test_loader:\n",
    "    with torch.no_grad():\n",
    "        data = bert_model(**data).last_hidden_state[:, 0, :]\n",
    "\n",
    "    outputs = model(data)\n",
    "    outputs = torch.argmax(outputs, dim=1)\n",
    "    preds.extend(outputs.tolist())\n",
    "\n",
    "test_true = raw_test['label'].map(lambda x: name2id[x]).tolist()\n",
    "acc = metrics.accuracy_score(test_true, preds)\n",
    "precision = metrics.precision_score(test_true, preds, average='macro')\n",
    "recall = metrics.recall_score(test_true, preds, average='macro')\n",
    "f1 = metrics.f1_score(test_true, preds, average='macro')\n",
    "print(\"冻结BERT参数，仅微调分类器(100 epoches)：\")\n",
    "print(\"-\"*60, \"\\n\", f\"Accuracy: {acc}, Precision: {precision}, Recall: {recall}, F1-score: {f1}\", \"\\n\", \"-\"*60)\n",
    "print(\"\\n\\n\")\n",
    "\n",
    "\n",
    "model = torch.load(\"./models/task2/bert-tuning_classifier-300-0.4.pth\", weights_only=False)\n",
    "model.eval()\n",
    "\n",
    "preds = []\n",
    "for data, labels in test_loader:\n",
    "    with torch.no_grad():\n",
    "        data = bert_model(**data).last_hidden_state[:, 0, :]\n",
    "\n",
    "    outputs = model(data)\n",
    "    outputs = torch.argmax(outputs, dim=1)\n",
    "    preds.extend(outputs.tolist())\n",
    "\n",
    "test_true = raw_test['label'].map(lambda x: name2id[x]).tolist()\n",
    "acc = metrics.accuracy_score(test_true, preds)\n",
    "precision = metrics.precision_score(test_true, preds, average='macro')\n",
    "recall = metrics.recall_score(test_true, preds, average='macro')\n",
    "f1 = metrics.f1_score(test_true, preds, average='macro')\n",
    "print(\"冻结BERT参数，仅微调分类器(300 epoches)：\")\n",
    "print(\"-\"*60, \"\\n\", f\"Accuracy: {acc}, Precision: {precision}, Recall: {recall}, F1-score: {f1}\", \"\\n\", \"-\"*60)"
   ]
  },
  {
   "cell_type": "code",
   "execution_count": null,
   "id": "6df46e83",
   "metadata": {},
   "outputs": [
    {
     "name": "stderr",
     "output_type": "stream",
     "text": [
      "d:\\python\\39\\lib\\site-packages\\sklearn\\metrics\\_classification.py:1565: UndefinedMetricWarning: Precision is ill-defined and being set to 0.0 in labels with no predicted samples. Use `zero_division` parameter to control this behavior.\n",
      "  _warn_prf(average, modifier, f\"{metric.capitalize()} is\", len(result))\n"
     ]
    },
    {
     "name": "stdout",
     "output_type": "stream",
     "text": [
      "微调全部(100 epoches)：\n",
      "------------------------------------------------------------ \n",
      " Accuracy: 0.874895046179681, Precision: 0.5195601154354985, Recall: 0.5201507038261691, F1-score: 0.5195585391994625 \n",
      " ------------------------------------------------------------\n",
      "\n",
      " \n",
      "\n",
      "微调全部(300 epoches)：\n",
      "------------------------------------------------------------ \n",
      " Accuracy: 0.8786733837111671, Precision: 0.52065083700722, Recall: 0.5234831365139347, F1-score: 0.5218486890659365 \n",
      " ------------------------------------------------------------\n"
     ]
    },
    {
     "name": "stderr",
     "output_type": "stream",
     "text": [
      "d:\\python\\39\\lib\\site-packages\\sklearn\\metrics\\_classification.py:1565: UndefinedMetricWarning: Precision is ill-defined and being set to 0.0 in labels with no predicted samples. Use `zero_division` parameter to control this behavior.\n",
      "  _warn_prf(average, modifier, f\"{metric.capitalize()} is\", len(result))\n"
     ]
    }
   ],
   "source": [
    "model = torch.load(\"./models/task2/all-tuning_classifier-100-0.4.pth\", weights_only=False)\n",
    "model.eval()\n",
    "\n",
    "preds = []\n",
    "for data, labels in test_loader:\n",
    "    outputs = model(data)\n",
    "    outputs = torch.argmax(outputs, dim=1)\n",
    "    preds.extend(outputs.tolist())\n",
    "    \n",
    "test_true = raw_test['label'].map(lambda x: name2id[x]).tolist()\n",
    "acc = metrics.accuracy_score(test_true, preds)\n",
    "precision = metrics.precision_score(test_true, preds, average='macro')\n",
    "recall = metrics.recall_score(test_true, preds, average='macro')\n",
    "f1 = metrics.f1_score(test_true, preds, average='macro')\n",
    "print(\"微调全部(100 epoches)：\")\n",
    "print(\"-\"*60, \"\\n\", f\"Accuracy: {acc}, Precision: {precision}, Recall: {recall}, F1-score: {f1}\", \"\\n\", \"-\"*60)\n",
    "print(\"\\n\\n\")\n",
    "\n",
    "\n",
    "model = torch.load(\"./models/task2/all-tuning_classifier-300-0.4.pth\", weights_only=False)\n",
    "model.eval()\n",
    "\n",
    "preds = []\n",
    "for data, labels in test_loader:\n",
    "    outputs = model(data)\n",
    "    outputs = torch.argmax(outputs, dim=1)\n",
    "    preds.extend(outputs.tolist())\n",
    "    \n",
    "test_true = raw_test['label'].map(lambda x: name2id[x]).tolist()\n",
    "acc = metrics.accuracy_score(test_true, preds)\n",
    "precision = metrics.precision_score(test_true, preds, average='macro')\n",
    "recall = metrics.recall_score(test_true, preds, average='macro')\n",
    "f1 = metrics.f1_score(test_true, preds, average='macro')\n",
    "print(\"微调全部(300 epoches)：\")\n",
    "print(\"-\"*60, \"\\n\", f\"Accuracy: {acc}, Precision: {precision}, Recall: {recall}, F1-score: {f1}\", \"\\n\", \"-\"*60)"
   ]
  },
  {
   "cell_type": "code",
   "execution_count": null,
   "id": "5b4ef7aa",
   "metadata": {},
   "outputs": [],
   "source": []
  }
 ],
 "metadata": {
  "kernelspec": {
   "display_name": "Python 3",
   "language": "python",
   "name": "python3"
  },
  "language_info": {
   "codemirror_mode": {
    "name": "ipython",
    "version": 3
   },
   "file_extension": ".py",
   "mimetype": "text/x-python",
   "name": "python",
   "nbconvert_exporter": "python",
   "pygments_lexer": "ipython3",
   "version": "3.9.10"
  }
 },
 "nbformat": 4,
 "nbformat_minor": 5
}
